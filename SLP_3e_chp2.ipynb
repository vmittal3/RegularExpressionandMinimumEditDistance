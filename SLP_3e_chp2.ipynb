{
 "cells": [
  {
   "cell_type": "markdown",
   "metadata": {},
   "source": [
    "# Chapter 2 - Regular Expression - Exercises"
   ]
  },
  {
   "cell_type": "markdown",
   "metadata": {},
   "source": [
    "## from Speech and Language Processing by Martin and Jurafsky, 3e the freely available draft dated December 2020"
   ]
  },
  {
   "cell_type": "markdown",
   "metadata": {},
   "source": [
    "## code by Vaibhav Mittal on 31st July, 2021"
   ]
  },
  {
   "cell_type": "code",
   "execution_count": 4,
   "metadata": {},
   "outputs": [],
   "source": [
    "from re import finditer, compile\n",
    "import numpy as np\n",
    "# from https://regexone.com/references/python"
   ]
  },
  {
   "cell_type": "markdown",
   "metadata": {},
   "source": [
    "## RegEx to find the set of all alphabetic strings"
   ]
  },
  {
   "cell_type": "code",
   "execution_count": 12,
   "metadata": {},
   "outputs": [
    {
     "name": "stdout",
     "output_type": "stream",
     "text": [
      "Target string:- abc012!@#abc!@#a bcb\t1\n",
      "\n",
      "\n",
      "<re.Match object; span=(0, 3), match='abc'>\n",
      "<re.Match object; span=(9, 12), match='abc'>\n",
      "<re.Match object; span=(15, 16), match='a'>\n",
      "<re.Match object; span=(17, 20), match='bcb'>\n"
     ]
    }
   ],
   "source": [
    "regex = compile(r'[A-Za-z]+')\n",
    "target = 'abc012!@#abc!@#a bcb\t1'\n",
    "\n",
    "print('Target string:- ' + target)\n",
    "print('\\n')\n",
    "for i in finditer(regex, target):\n",
    "    print(i)"
   ]
  },
  {
   "cell_type": "markdown",
   "metadata": {},
   "source": [
    "## Find the set of all lowercase alphabetic strings eding in a 'b'"
   ]
  },
  {
   "cell_type": "code",
   "execution_count": 13,
   "metadata": {},
   "outputs": [
    {
     "name": "stdout",
     "output_type": "stream",
     "text": [
      "Target string:- abc012!@#abcb!@#a bcb\t1abb#bbba AB Ab\n",
      "\n",
      "\n",
      "<re.Match object; span=(0, 2), match='ab'>\n",
      "<re.Match object; span=(9, 13), match='abcb'>\n",
      "<re.Match object; span=(18, 21), match='bcb'>\n",
      "<re.Match object; span=(23, 26), match='abb'>\n",
      "<re.Match object; span=(27, 30), match='bbb'>\n"
     ]
    }
   ],
   "source": [
    "regex = compile(r'[a-z]+b')\n",
    "target = 'abc012!@#abcb!@#a bcb\t1abb#bbba AB Ab'\n",
    "\n",
    "print('Target string:- ' + target)\n",
    "print('\\n')\n",
    "for i in finditer(regex, target):\n",
    "    print(i)"
   ]
  },
  {
   "cell_type": "markdown",
   "metadata": {},
   "source": [
    "## Find the set of all strings from the alphabet a, b such that each 'a' is immediately preceded by and immediately followed by 'b'"
   ]
  },
  {
   "cell_type": "code",
   "execution_count": 14,
   "metadata": {},
   "outputs": [
    {
     "name": "stdout",
     "output_type": "stream",
     "text": [
      "Target string:- aabababababbbabaaababaababaaaabaabaabababababababababa\n",
      "\n",
      "\n",
      "<re.Match object; span=(0, 3), match='aab'>\n",
      "<re.Match object; span=(16, 19), match='aab'>\n",
      "<re.Match object; span=(21, 24), match='aab'>\n",
      "<re.Match object; span=(28, 31), match='aab'>\n",
      "<re.Match object; span=(31, 34), match='aab'>\n",
      "<re.Match object; span=(34, 37), match='aab'>\n"
     ]
    }
   ],
   "source": [
    "regex = compile(r'aab')\n",
    "target = 'aabababababbbabaaababaababaaaabaabaabababababababababa'\n",
    "\n",
    "print('Target string:- ' + target)\n",
    "print('\\n')\n",
    "for i in finditer(regex, target):\n",
    "    print(i)\n",
    "\n",
    "# the look-behind and look-ahead operators could also have been used here"
   ]
  },
  {
   "cell_type": "markdown",
   "metadata": {},
   "source": [
    "## Find the set of all strings with two consecutive repeated words (eg. \"Humbert Humbert\" and \"the the\" but not \"the bug\" or \"the big bug\")"
   ]
  },
  {
   "cell_type": "code",
   "execution_count": 15,
   "metadata": {},
   "outputs": [
    {
     "name": "stdout",
     "output_type": "stream",
     "text": [
      "Target string:- Humbert Humbert the Humbert big the the big bug\n",
      "\n",
      "\n",
      "<re.Match object; span=(0, 15), match='Humbert Humbert'>\n",
      "<re.Match object; span=(32, 39), match='the the'>\n"
     ]
    }
   ],
   "source": [
    "regex = compile(r'(\\w+)\\s+\\1\\b')\n",
    "target = \"Humbert Humbert the Humbert big the the big bug\"\n",
    "\n",
    "print('Target string:- ' + target)\n",
    "print('\\n')\n",
    "for i in finditer(regex, target):\n",
    "    print(i)"
   ]
  },
  {
   "cell_type": "markdown",
   "metadata": {},
   "source": [
    "## All strings that start at the beginning of the line with an integer an that end at the end of the line with a word"
   ]
  },
  {
   "cell_type": "code",
   "execution_count": 17,
   "metadata": {},
   "outputs": [
    {
     "name": "stdout",
     "output_type": "stream",
     "text": [
      "Target text:- 12Humbert Humbert the Humbert big the the big bug\\nHumbert Humbert the Humbert big the the big bug\\nHumber humbert is\n",
      "\n",
      "\n",
      "<re.Match object; span=(0, 117), match='12Humbert Humbert the Humbert big the the big bug>\n"
     ]
    }
   ],
   "source": [
    "regex = compile(r'^\\d.*\\w$')\n",
    "target = r\"12Humbert Humbert the Humbert big the the big bug\\nHumbert Humbert the Humbert big the the big bug\\nHumber humbert is\"\n",
    "\n",
    "print('Target text:- ' + target)\n",
    "print('\\n')\n",
    "for i in finditer(regex, target):\n",
    "    print(i)"
   ]
  },
  {
   "cell_type": "markdown",
   "metadata": {},
   "source": [
    "# Minimum Edit Distance"
   ]
  },
  {
   "cell_type": "code",
   "execution_count": 5,
   "metadata": {},
   "outputs": [],
   "source": [
    "def min_edit_distance(source, target, del_cost = 1, ins_cost = 1, sub_cost = 2):\n",
    "    \"\"\"\n",
    "    A function which takes a source and target (string) and returns the minimum edit distance (integer)\n",
    "    \"\"\"\n",
    "\n",
    "    n = len(source)\n",
    "    m = len(target)\n",
    "    D = np.zeros((n+1, m+1))\n",
    "    \n",
    "    for i in range(1, n+1):\n",
    "        D[i, 0] = D[i-1, 0] + del_cost\n",
    "    for j in range(1, m+1):\n",
    "        D[0, j] = D[0, j-1] + ins_cost\n",
    "\n",
    "    for i in range(1, n+1):\n",
    "        for j in range(1, m+1):\n",
    "            deletion = D[i-1, j] + del_cost\n",
    "            insertion = D[i, j-1] + ins_cost\n",
    "            substitution = D[i-1, j-1] + calculate_sub_cost(source[i-1], target[j-1], sub_cost)\n",
    "            D[i, j] = min(deletion, insertion, substitution)\n",
    "    return D[n, m]"
   ]
  },
  {
   "cell_type": "code",
   "execution_count": 6,
   "metadata": {},
   "outputs": [],
   "source": [
    "def calculate_sub_cost(source, target, sub_cost = 2):\n",
    "    \"\"\"\n",
    "    A function to calculate substitution costs taking the substitution or non-substitution into account\n",
    "    \"\"\"\n",
    "\n",
    "    if source == target:\n",
    "        return 0\n",
    "    else:\n",
    "        return sub_cost"
   ]
  },
  {
   "cell_type": "code",
   "execution_count": 7,
   "metadata": {},
   "outputs": [
    {
     "name": "stdout",
     "output_type": "stream",
     "text": [
      "8.0\n"
     ]
    }
   ],
   "source": [
    "med = min_edit_distance(\"intention\", \"execution\", del_cost = 1, ins_cost = 1, sub_cost = 2)\n",
    "print(med)"
   ]
  },
  {
   "cell_type": "markdown",
   "metadata": {},
   "source": [
    "## Edit Distance between \"leda\" and \"deal\" with each cost as 1"
   ]
  },
  {
   "cell_type": "code",
   "execution_count": 8,
   "metadata": {},
   "outputs": [
    {
     "name": "stdout",
     "output_type": "stream",
     "text": [
      "2.0\n"
     ]
    }
   ],
   "source": [
    "print(min_edit_distance(\"lead\", \"deal\", sub_cost = 1))"
   ]
  },
  {
   "cell_type": "markdown",
   "metadata": {},
   "source": [
    "## Edit Distance between \"drive\" and \"brief\" and between \"drive\" and \"divers\""
   ]
  },
  {
   "cell_type": "code",
   "execution_count": 10,
   "metadata": {},
   "outputs": [
    {
     "name": "stdout",
     "output_type": "stream",
     "text": [
      "The minimum edit distance between 'drive' and 'brief' is 4.0\n",
      "The minimum edit distance between 'drive' and 'divers' is 3.0\n"
     ]
    }
   ],
   "source": [
    "print(\"The minimum edit distance between 'drive' and 'brief' is \" + str(min_edit_distance(\"drive\", \"brief\")))\n",
    "print(\"The minimum edit distance between 'drive' and 'divers' is \" + str(min_edit_distance(\"drive\", \"divers\")))"
   ]
  },
  {
   "cell_type": "markdown",
   "metadata": {},
   "source": [
    "## Output an alignment from the minimum edit distance algorithm"
   ]
  },
  {
   "cell_type": "code",
   "execution_count": 19,
   "metadata": {},
   "outputs": [],
   "source": [
    "def min_edit_distance_with_alignment(source, target, del_cost = 1, ins_cost = 1, sub_cost = 2):\n",
    "    \"\"\"\n",
    "    A function which takes a source and target (string) and returns the alignment between the two (integer)\n",
    "    \"\"\"\n",
    "\n",
    "    n = len(source)\n",
    "    m = len(target)\n",
    "    D = np.zeros((n+1, m+1))\n",
    "    \n",
    "    for i in range(1, n+1):\n",
    "        D[i, 0] = D[i-1, 0] + del_cost\n",
    "    for j in range(1, m+1):\n",
    "        D[0, j] = D[0, j-1] + ins_cost\n",
    "    \n",
    "    backtrace = []\n",
    "    for i in range(1, n+1):\n",
    "        for j in range(1, m+1):\n",
    "            deletion = D[i-1, j] + del_cost\n",
    "            insertion = D[i, j-1] + ins_cost\n",
    "            substitution = D[i-1, j-1] + calculate_sub_cost(source[i-1], target[j-1], sub_cost)\n",
    "            D[i, j] = min(deletion, insertion, substitution)\n",
    "            \n",
    "            \n",
    "            if substitution == D[i,j]:\n",
    "                backtrace.append('diagonal')\n",
    "            if insertion == D[i,j]:\n",
    "                backtrace.append('up')\n",
    "            if deletion == D[i,j]:\n",
    "                backtrace.append('left')\n",
    "            \n",
    "    print(backtrace)\n",
    "    \n",
    "    return D[n, m]"
   ]
  },
  {
   "cell_type": "code",
   "execution_count": 20,
   "metadata": {},
   "outputs": [
    {
     "name": "stdout",
     "output_type": "stream",
     "text": [
      "['diagonal', 'up', 'left', 'diagonal', 'up', 'left', 'diagonal', 'up', 'left', 'diagonal', 'up', 'left', 'diagonal', 'up', 'left', 'diagonal', 'up', 'left', 'diagonal', 'up', 'up', 'diagonal', 'up', 'left', 'diagonal', 'up', 'left', 'diagonal', 'up', 'left', 'diagonal', 'up', 'left', 'diagonal', 'up', 'left', 'diagonal', 'up', 'left', 'left', 'diagonal', 'up', 'left', 'diagonal', 'diagonal', 'up', 'left', 'diagonal', 'up', 'left', 'diagonal', 'up', 'left', 'diagonal', 'up', 'left', 'diagonal', 'up', 'left', 'diagonal', 'up', 'left', 'diagonal', 'up', 'left', 'left', 'diagonal', 'up', 'diagonal', 'up', 'up', 'up', 'up', 'left', 'diagonal', 'up', 'left', 'diagonal', 'up', 'left', 'left', 'left', 'diagonal', 'up', 'left', 'diagonal', 'up', 'left', 'diagonal', 'up', 'left', 'diagonal', 'up', 'left', 'diagonal', 'up', 'left', 'diagonal', 'up', 'left', 'diagonal', 'up', 'left', 'diagonal', 'left', 'left', 'diagonal', 'up', 'left', 'diagonal', 'up', 'left', 'diagonal', 'up', 'left', 'diagonal', 'up', 'left', 'diagonal', 'up', 'up', 'up', 'left', 'left', 'diagonal', 'up', 'left', 'diagonal', 'up', 'left', 'diagonal', 'up', 'left', 'diagonal', 'up', 'left', 'left', 'diagonal', 'up', 'up', 'left', 'diagonal', 'up', 'left', 'diagonal', 'up', 'left', 'diagonal', 'up', 'left', 'diagonal', 'up', 'left', 'left', 'left', 'diagonal', 'up', 'left', 'diagonal', 'up', 'left', 'diagonal', 'up', 'left', 'diagonal', 'up', 'left', 'diagonal', 'up', 'left', 'left', 'left', 'left', 'diagonal']\n"
     ]
    }
   ],
   "source": [
    "med = min_edit_distance_with_alignment(\"intention\", \"execution\", del_cost = 1, ins_cost = 1, sub_cost = 2)"
   ]
  },
  {
   "cell_type": "code",
   "execution_count": null,
   "metadata": {},
   "outputs": [],
   "source": []
  }
 ],
 "metadata": {
  "kernelspec": {
   "display_name": "Python 3",
   "language": "python",
   "name": "python3"
  },
  "language_info": {
   "codemirror_mode": {
    "name": "ipython",
    "version": 3
   },
   "file_extension": ".py",
   "mimetype": "text/x-python",
   "name": "python",
   "nbconvert_exporter": "python",
   "pygments_lexer": "ipython3",
   "version": "3.7.1"
  }
 },
 "nbformat": 4,
 "nbformat_minor": 2
}
